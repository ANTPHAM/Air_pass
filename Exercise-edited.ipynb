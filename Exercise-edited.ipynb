{
 "cells": [
  {
   "cell_type": "markdown",
   "metadata": {},
   "source": [
    "Test Amadeus (updated le 05/07/16)\n",
    "Antoine PHAM"
   ]
  },
  {
   "cell_type": "code",
   "execution_count": 1,
   "metadata": {
    "collapsed": false
   },
   "outputs": [],
   "source": [
    "%matplotlib inline\n",
    "import pandas as pd                     # charge un package pour le dataframe\n",
    "import numpy as np                      # charge un package pour le numérique\n",
    "import matplotlib.pyplot as plt         # charge un package pour les graphiques\n",
    "import csv                              # charge un package pour lire csv\n"
   ]
  },
  {
   "cell_type": "markdown",
   "metadata": {},
   "source": [
    "Exercise 1: count the number of lines in Python for each file\n",
    "\n",
    "L'ordinateur dont je dispose actuellement ne contient que 6Gb, j'ai du opter pour cette methode pour pour pouvoir lire les fichiers csv en entier."
   ]
  },
  {
   "cell_type": "code",
   "execution_count": 2,
   "metadata": {
    "collapsed": false
   },
   "outputs": [
    {
     "name": "stdout",
     "output_type": "stream",
     "text": [
      "There are 10000011 rows in the 'booking data'\n",
      "and 20390199 rows in the 'search data'.\n"
     ]
    }
   ],
   "source": [
    "booking= open('bookings.csv','r')\n",
    "search= open('searches.csv','r')\n",
    "num_rows_b = sum(1 for line in booking)\n",
    "num_rows_s = sum(1 for line in search)\n",
    "print \"There are %d rows in the 'booking data'\"%(num_rows_b)\n",
    "print \"and %d rows in the 'search data'.\"%(num_rows_s)\n",
    "booking.close()\n",
    "search.close()"
   ]
  },
  {
   "cell_type": "markdown",
   "metadata": {},
   "source": [
    "Exercise 2: top 10 arrival airports in the world in 2013 (using the bookings file)? Arrival airport is the column arr_port. It is the IATA code for the airport To get the total number of passengers for an airport, you can sum the column pax, grouping by arr_port. Note that there is negative pax. That corresponds to cancelations. So to get the total number of passengers that have actually booked, you should sum including the negatives (that will remove the canceled bookings). Print the top 10 arrival airports in the standard output, including the number of passengers.\n",
    "\n",
    "REMARQUES: pour la question de capacite de memoire, cet exercise a ete fait sur sur un echantillon de donnees. Le principe et le code peuvent etre toutefois generalises sur la population totale."
   ]
  },
  {
   "cell_type": "code",
   "execution_count": 3,
   "metadata": {
    "collapsed": false
   },
   "outputs": [
    {
     "data": {
      "text/html": [
       "<div>\n",
       "<table border=\"1\" class=\"dataframe\">\n",
       "  <thead>\n",
       "    <tr style=\"text-align: right;\">\n",
       "      <th></th>\n",
       "      <th>act_date</th>\n",
       "      <th>source</th>\n",
       "      <th>pos_ctry</th>\n",
       "      <th>pos_iata</th>\n",
       "      <th>pos_oid</th>\n",
       "      <th>rloc</th>\n",
       "      <th>cre_date</th>\n",
       "      <th>duration</th>\n",
       "      <th>distance</th>\n",
       "      <th>dep_port</th>\n",
       "      <th>...</th>\n",
       "      <th>route</th>\n",
       "      <th>carrier</th>\n",
       "      <th>bkg_class</th>\n",
       "      <th>cab_class</th>\n",
       "      <th>brd_time</th>\n",
       "      <th>off_time</th>\n",
       "      <th>pax</th>\n",
       "      <th>year</th>\n",
       "      <th>month</th>\n",
       "      <th>oid</th>\n",
       "    </tr>\n",
       "  </thead>\n",
       "  <tbody>\n",
       "    <tr>\n",
       "      <th>0</th>\n",
       "      <td>2013-03-05 00:00:00</td>\n",
       "      <td>1A</td>\n",
       "      <td>DE</td>\n",
       "      <td>a68dd7ae953c8acfb187a1af2dcbe123</td>\n",
       "      <td>1a11ae49fcbf545fd2afc1a24d88d2b7</td>\n",
       "      <td>ea65900e72d71f4626378e2ebd298267</td>\n",
       "      <td>2013-02-22 00:00:00</td>\n",
       "      <td>1708</td>\n",
       "      <td>0</td>\n",
       "      <td>ZRH</td>\n",
       "      <td>...</td>\n",
       "      <td>LHRZRH</td>\n",
       "      <td>VI</td>\n",
       "      <td>T</td>\n",
       "      <td>Y</td>\n",
       "      <td>2013-03-07 08:50:00</td>\n",
       "      <td>2013-03-07 11:33:37</td>\n",
       "      <td>-1</td>\n",
       "      <td>2013</td>\n",
       "      <td>3</td>\n",
       "      <td>NULL</td>\n",
       "    </tr>\n",
       "    <tr>\n",
       "      <th>1</th>\n",
       "      <td>2013-03-26 00:00:00</td>\n",
       "      <td>1A</td>\n",
       "      <td>US</td>\n",
       "      <td>e612b9eeeee6f17f42d9b0d3b79e75ca</td>\n",
       "      <td>7437560d8f276d6d05eeb806d9e7edee</td>\n",
       "      <td>737295a86982c941f1c2da9a46a14043</td>\n",
       "      <td>2013-03-26 00:00:00</td>\n",
       "      <td>135270</td>\n",
       "      <td>0</td>\n",
       "      <td>SAL</td>\n",
       "      <td>...</td>\n",
       "      <td>SALATLCLT</td>\n",
       "      <td>NV</td>\n",
       "      <td>L</td>\n",
       "      <td>Y</td>\n",
       "      <td>2013-04-12 13:04:00</td>\n",
       "      <td>2013-04-12 22:05:40</td>\n",
       "      <td>1</td>\n",
       "      <td>2013</td>\n",
       "      <td>3</td>\n",
       "      <td>NULL</td>\n",
       "    </tr>\n",
       "  </tbody>\n",
       "</table>\n",
       "<p>2 rows × 38 columns</p>\n",
       "</div>"
      ],
      "text/plain": [
       "   act_date             source  pos_ctry                          pos_iata  \\\n",
       "0  2013-03-05 00:00:00  1A      DE        a68dd7ae953c8acfb187a1af2dcbe123   \n",
       "1  2013-03-26 00:00:00  1A      US        e612b9eeeee6f17f42d9b0d3b79e75ca   \n",
       "\n",
       "                          pos_oid                      rloc            \\\n",
       "0  1a11ae49fcbf545fd2afc1a24d88d2b7  ea65900e72d71f4626378e2ebd298267   \n",
       "1  7437560d8f276d6d05eeb806d9e7edee  737295a86982c941f1c2da9a46a14043   \n",
       "\n",
       "   cre_date             duration  distance  dep_port    ...      \\\n",
       "0  2013-02-22 00:00:00      1708         0  ZRH         ...       \n",
       "1  2013-03-26 00:00:00    135270         0  SAL         ...       \n",
       "\n",
       "   route           carrier  bkg_class  cab_class  brd_time             \\\n",
       "0  LHRZRH               VI  T          Y          2013-03-07 08:50:00   \n",
       "1  SALATLCLT            NV  L          Y          2013-04-12 13:04:00   \n",
       "\n",
       "   off_time            pax  year month  oid        \n",
       "0  2013-03-07 11:33:37  -1  2013     3  NULL       \n",
       "1  2013-04-12 22:05:40   1  2013     3  NULL       \n",
       "\n",
       "[2 rows x 38 columns]"
      ]
     },
     "execution_count": 3,
     "metadata": {},
     "output_type": "execute_result"
    }
   ],
   "source": [
    "Chunksize=100000 # to work on a sample\n",
    "booking = pd.read_csv('bookings.csv', sep ='^', iterator=True,chunksize= Chunksize, low_memory=False)\n",
    "booking= pd.DataFrame(booking.get_chunk(100000))\n",
    "booking.head(2)\n"
   ]
  },
  {
   "cell_type": "code",
   "execution_count": null,
   "metadata": {
    "collapsed": true
   },
   "outputs": [],
   "source": [
    "# booking.to_csv('booking_ext.csv')# optional: to copie the output in  a csv file"
   ]
  },
  {
   "cell_type": "code",
   "execution_count": 4,
   "metadata": {
    "collapsed": false
   },
   "outputs": [
    {
     "name": "stdout",
     "output_type": "stream",
     "text": [
      "act_date               0\n",
      "source                 0\n",
      "pos_ctry               0\n",
      "pos_iata               0\n",
      "pos_oid                0\n",
      "rloc                   0\n",
      "cre_date               0\n",
      "duration               0\n",
      "distance               0\n",
      "dep_port               0\n",
      "dep_city               0\n",
      "dep_ctry               0\n",
      "arr_port               0\n",
      "arr_city               0\n",
      "arr_ctry               0\n",
      "lst_port               0\n",
      "lst_city               0\n",
      "lst_ctry               0\n",
      "brd_port               0\n",
      "brd_city               0\n",
      "brd_ctry               0\n",
      "off_port               0\n",
      "off_city               0\n",
      "off_ctry               0\n",
      "mkt_port               0\n",
      "mkt_city               0\n",
      "mkt_ctry               0\n",
      "intl                   0\n",
      "route                  0\n",
      "carrier                0\n",
      "bkg_class              0\n",
      "cab_class              0\n",
      "brd_time               0\n",
      "off_time               0\n",
      "pax                    0\n",
      "year                   0\n",
      "month                  0\n",
      "oid                    0\n",
      "dtype: int64\n",
      "act_date               object\n",
      "source                 object\n",
      "pos_ctry               object\n",
      "pos_iata               object\n",
      "pos_oid                object\n",
      "rloc                   object\n",
      "cre_date               object\n",
      "duration                int64\n",
      "distance                int64\n",
      "dep_port               object\n",
      "dep_city               object\n",
      "dep_ctry               object\n",
      "arr_port               object\n",
      "arr_city               object\n",
      "arr_ctry               object\n",
      "lst_port               object\n",
      "lst_city               object\n",
      "lst_ctry               object\n",
      "brd_port               object\n",
      "brd_city               object\n",
      "brd_ctry               object\n",
      "off_port               object\n",
      "off_city               object\n",
      "off_ctry               object\n",
      "mkt_port               object\n",
      "mkt_city               object\n",
      "mkt_ctry               object\n",
      "intl                    int64\n",
      "route                  object\n",
      "carrier                object\n",
      "bkg_class              object\n",
      "cab_class              object\n",
      "brd_time               object\n",
      "off_time               object\n",
      "pax                     int64\n",
      "year                    int64\n",
      "month                   int64\n",
      "oid                    object\n",
      "dtype: object\n"
     ]
    }
   ],
   "source": [
    "print(booking.apply(lambda x: sum(x.isnull()),axis=0)) # check null value\n",
    "print(booking.dtypes)# to see the type of variables"
   ]
  },
  {
   "cell_type": "code",
   "execution_count": 25,
   "metadata": {
    "collapsed": false
   },
   "outputs": [
    {
     "name": "stdout",
     "output_type": "stream",
     "text": [
      "the top 10 arrival airports in the standard output, including the number of passengers :\n",
      "      arr_port   pax\n",
      "733   LHR       1006\n",
      "798   MCO        861\n",
      "620   JFK        795\n",
      "706   LAX        761\n",
      "156   BKK        747\n",
      "704   LAS        732\n",
      "1159  SFO        705\n",
      "957   ORD        686\n",
      "232   CDG        676\n",
      "366   DXB        587\n"
     ]
    }
   ],
   "source": [
    "# To find the top 10 airports\n",
    "booking_2013=booking.loc[booking[\"year\"] ==2013,['arr_port','pax']]\n",
    "booking_top=booking_2013.groupby('arr_port',as_index=False)['pax'].sum()\n",
    "result=booking_top.sort_values(['pax'],ascending=False).head(10)\n",
    "print \"the top 10 arrival airports in the standard output, including the number of passengers :\"\n",
    "print result"
   ]
  },
  {
   "cell_type": "markdown",
   "metadata": {},
   "source": [
    "Bonus point: Get the name of the city or airport corresponding to that airport (programatically, we suggest to have a look at GeoBases in Github) Bonus point: Solve this problem using pandas (instead of any other approach)\n",
    "Get the name of the city or airport corresponding to that airport programatically, we suggest to have a look at GeoBases in Github.\n",
    "\n",
    "Impossible to install Geobase in the moment\n"
   ]
  },
  {
   "cell_type": "code",
   "execution_count": null,
   "metadata": {
    "collapsed": true
   },
   "outputs": [],
   "source": [
    "from GeoBases import GeoBase # to execute when GeoBases installed\n",
    "geo_a = GeoBase(data='ori_por', verbose=False)\n",
    "[geo_a.get(k,'name') for k in ('LHR','MCO','JFK','LAX','BKK','LAS','SFO','ORD','CDG','DXB')]"
   ]
  },
  {
   "cell_type": "code",
   "execution_count": 43,
   "metadata": {
    "collapsed": false
   },
   "outputs": [
    {
     "name": "stdout",
     "output_type": "stream",
     "text": [
      "                                   name IATA_code   pax\n",
      "0               London Heathrow Airport  LHR       1006\n",
      "1         Orlando International Airport  MCO        861\n",
      "2  John F Kennedy International Airport  JFK        795\n",
      "3     Los Angeles International Airport  LAX        761\n",
      "4                          Suvarnabhumi  BKK        747\n",
      "5        McCarran International Airport  LAS        732\n",
      "6   San Francisco International Airport  SFO        705\n",
      "7  Chicago O'Hare International Airport  ORD        686\n",
      "8             Paris - Charles-de-Gaulle  CDG        676\n",
      "9           Dubai International Airport  DXB        587\n"
     ]
    }
   ],
   "source": [
    "# create the the exercise 2's output for writting a web service\n",
    "list=('London Heathrow Airport', 'Orlando International Airport', 'John F Kennedy International Airport', \n",
    "      'Los Angeles International Airport', 'Suvarnabhumi', 'McCarran International Airport',\n",
    "      'San Francisco International Airport', \"Chicago O'Hare International Airport\",\n",
    "      'Paris - Charles-de-Gaulle', 'Dubai International Airport')\n",
    "out=result\n",
    "out['name']=list\n",
    "out=out[['name','arr_port','pax']]\n",
    "out.columns.values[1]='IATA_code'\n",
    "out=out.reset_index(drop=True)\n",
    "print out"
   ]
  },
  {
   "cell_type": "markdown",
   "metadata": {},
   "source": [
    "Exercise 3: plot the monthly number of searches for flights arriving at Málaga, Madrid or Barcelona For the arriving airport, you can use the Destination column in the searches file. Plot a curve for Málaga, another one for Madrid, and another one for Barcelona, in the same figure. Bonus point: Solving this problem using pandas (instead of any other approach).\n",
    "\n",
    "Remarque: le code est encore une fois applique sur un echantillon."
   ]
  },
  {
   "cell_type": "code",
   "execution_count": 44,
   "metadata": {
    "collapsed": false
   },
   "outputs": [
    {
     "data": {
      "text/html": [
       "<div>\n",
       "<table border=\"1\" class=\"dataframe\">\n",
       "  <thead>\n",
       "    <tr style=\"text-align: right;\">\n",
       "      <th></th>\n",
       "      <th>Date</th>\n",
       "      <th>Time</th>\n",
       "      <th>TxnCode</th>\n",
       "      <th>OfficeID</th>\n",
       "      <th>Country</th>\n",
       "      <th>Origin</th>\n",
       "      <th>Destination</th>\n",
       "      <th>RoundTrip</th>\n",
       "      <th>NbSegments</th>\n",
       "      <th>Seg1Departure</th>\n",
       "      <th>...</th>\n",
       "      <th>Seg6Arrival</th>\n",
       "      <th>Seg6Date</th>\n",
       "      <th>Seg6Carrier</th>\n",
       "      <th>Seg6BookingCode</th>\n",
       "      <th>From</th>\n",
       "      <th>IsPublishedForNeg</th>\n",
       "      <th>IsFromInternet</th>\n",
       "      <th>IsFromVista</th>\n",
       "      <th>TerminalID</th>\n",
       "      <th>InternetOffice</th>\n",
       "    </tr>\n",
       "  </thead>\n",
       "  <tbody>\n",
       "    <tr>\n",
       "      <th>0</th>\n",
       "      <td>2013-01-01</td>\n",
       "      <td>20:25:57</td>\n",
       "      <td>MPT</td>\n",
       "      <td>624d8c3ac0b3a7ca03e3c167e0f48327</td>\n",
       "      <td>DE</td>\n",
       "      <td>TXL</td>\n",
       "      <td>AUH</td>\n",
       "      <td>1</td>\n",
       "      <td>2</td>\n",
       "      <td>TXL</td>\n",
       "      <td>...</td>\n",
       "      <td>NaN</td>\n",
       "      <td>NaN</td>\n",
       "      <td>NaN</td>\n",
       "      <td>NaN</td>\n",
       "      <td>1ASIWS</td>\n",
       "      <td>0</td>\n",
       "      <td>0</td>\n",
       "      <td>0</td>\n",
       "      <td>d41d8cd98f00b204e9800998ecf8427e</td>\n",
       "      <td>FRA</td>\n",
       "    </tr>\n",
       "    <tr>\n",
       "      <th>1</th>\n",
       "      <td>2013-01-01</td>\n",
       "      <td>10:15:33</td>\n",
       "      <td>MPT</td>\n",
       "      <td>b0af35b31588dc4ab06d5cf2986e8e02</td>\n",
       "      <td>MD</td>\n",
       "      <td>ATH</td>\n",
       "      <td>MIL</td>\n",
       "      <td>0</td>\n",
       "      <td>1</td>\n",
       "      <td>ATH</td>\n",
       "      <td>...</td>\n",
       "      <td>NaN</td>\n",
       "      <td>NaN</td>\n",
       "      <td>NaN</td>\n",
       "      <td>NaN</td>\n",
       "      <td>1ASIWS</td>\n",
       "      <td>0</td>\n",
       "      <td>0</td>\n",
       "      <td>0</td>\n",
       "      <td>d41d8cd98f00b204e9800998ecf8427e</td>\n",
       "      <td>KIV</td>\n",
       "    </tr>\n",
       "  </tbody>\n",
       "</table>\n",
       "<p>2 rows × 45 columns</p>\n",
       "</div>"
      ],
      "text/plain": [
       "         Date      Time TxnCode                          OfficeID Country  \\\n",
       "0  2013-01-01  20:25:57     MPT  624d8c3ac0b3a7ca03e3c167e0f48327      DE   \n",
       "1  2013-01-01  10:15:33     MPT  b0af35b31588dc4ab06d5cf2986e8e02      MD   \n",
       "\n",
       "  Origin Destination  RoundTrip  NbSegments Seg1Departure      ...        \\\n",
       "0    TXL         AUH          1           2           TXL      ...         \n",
       "1    ATH         MIL          0           1           ATH      ...         \n",
       "\n",
       "  Seg6Arrival Seg6Date Seg6Carrier Seg6BookingCode    From IsPublishedForNeg  \\\n",
       "0         NaN      NaN         NaN             NaN  1ASIWS                 0   \n",
       "1         NaN      NaN         NaN             NaN  1ASIWS                 0   \n",
       "\n",
       "  IsFromInternet IsFromVista                        TerminalID InternetOffice  \n",
       "0              0           0  d41d8cd98f00b204e9800998ecf8427e            FRA  \n",
       "1              0           0  d41d8cd98f00b204e9800998ecf8427e            KIV  \n",
       "\n",
       "[2 rows x 45 columns]"
      ]
     },
     "execution_count": 44,
     "metadata": {},
     "output_type": "execute_result"
    }
   ],
   "source": [
    "Chunksize=100000 # to work on a sample only\n",
    "search = pd.read_csv('searches.csv', sep ='^', iterator=True,chunksize= Chunksize, low_memory=False)\n",
    "search=pd.DataFrame(search.get_chunk(100000))\n",
    "search.head(2)"
   ]
  },
  {
   "cell_type": "code",
   "execution_count": 45,
   "metadata": {
    "collapsed": false
   },
   "outputs": [
    {
     "data": {
      "text/plain": [
       "Date                 object\n",
       "Time                 object\n",
       "TxnCode              object\n",
       "OfficeID             object\n",
       "Country              object\n",
       "Origin               object\n",
       "Destination          object\n",
       "RoundTrip             int64\n",
       "NbSegments            int64\n",
       "Seg1Departure        object\n",
       "Seg1Arrival          object\n",
       "Seg1Date             object\n",
       "Seg1Carrier          object\n",
       "Seg1BookingCode      object\n",
       "Seg2Departure        object\n",
       "Seg2Arrival          object\n",
       "Seg2Date             object\n",
       "Seg2Carrier          object\n",
       "Seg2BookingCode      object\n",
       "Seg3Departure        object\n",
       "Seg3Arrival          object\n",
       "Seg3Date             object\n",
       "Seg3Carrier          object\n",
       "Seg3BookingCode      object\n",
       "Seg4Departure        object\n",
       "Seg4Arrival          object\n",
       "Seg4Date             object\n",
       "Seg4Carrier          object\n",
       "Seg4BookingCode      object\n",
       "Seg5Departure        object\n",
       "Seg5Arrival          object\n",
       "Seg5Date             object\n",
       "Seg5Carrier          object\n",
       "Seg5BookingCode      object\n",
       "Seg6Departure        object\n",
       "Seg6Arrival          object\n",
       "Seg6Date             object\n",
       "Seg6Carrier          object\n",
       "Seg6BookingCode      object\n",
       "From                 object\n",
       "IsPublishedForNeg     int64\n",
       "IsFromInternet        int64\n",
       "IsFromVista           int64\n",
       "TerminalID           object\n",
       "InternetOffice       object\n",
       "dtype: object"
      ]
     },
     "execution_count": 45,
     "metadata": {},
     "output_type": "execute_result"
    }
   ],
   "source": [
    "search.dtypes"
   ]
  },
  {
   "cell_type": "code",
   "execution_count": null,
   "metadata": {
    "collapsed": true
   },
   "outputs": [],
   "source": [
    "#search.to_csv('search_ext.csv') # optional: copie the output to a csv file"
   ]
  },
  {
   "cell_type": "code",
   "execution_count": 46,
   "metadata": {
    "collapsed": true
   },
   "outputs": [],
   "source": [
    "# to get the month from the variabe 'Date'\n",
    "def getMonth(s):\n",
    "  return s.split(\"-\")[1]\n",
    "search['month']= search['Date'].apply(lambda x: getMonth(x))\n"
   ]
  },
  {
   "cell_type": "code",
   "execution_count": 47,
   "metadata": {
    "collapsed": false
   },
   "outputs": [
    {
     "name": "stdout",
     "output_type": "stream",
     "text": [
      "(3663, 2)\n",
      "    Destination month\n",
      "4           MAD    01\n",
      "93          AGP    01\n",
      "113         BCN    01\n",
      "147         AGP    01\n",
      "151         MAD    01\n",
      "165         BCN    01\n",
      "177         BCN    01\n",
      "186         BCN    01\n",
      "188         BCN    01\n",
      "208         BCN    01\n"
     ]
    }
   ],
   "source": [
    "# create a dataframe with Destination and Month as values\n",
    "search_dest= pd.DataFrame(search.loc[(search.Destination=='AGP')| (search.Destination=='MAD') | (search.Destination=='BCN'),\n",
    "                                     ['Destination','month']])\n",
    "print search_dest.shape\n",
    "print search_dest.head(10)"
   ]
  },
  {
   "cell_type": "code",
   "execution_count": 48,
   "metadata": {
    "collapsed": false
   },
   "outputs": [
    {
     "name": "stdout",
     "output_type": "stream",
     "text": [
      "   Destination month  count\n",
      "0          AGP    01    169\n",
      "1          AGP    02    147\n",
      "2          AGP    03    187\n",
      "3          AGP    04     31\n",
      "4          BCN    01    517\n",
      "5          BCN    02    497\n",
      "6          BCN    03    536\n",
      "7          BCN    04    174\n",
      "8          MAD    01    425\n",
      "9          MAD    02    400\n",
      "10         MAD    03    433\n",
      "11         MAD    04    147\n"
     ]
    }
   ],
   "source": [
    "# group 'Destination' and 'month' by the count, add a new column \n",
    "df=pd.DataFrame(search_dest.groupby(['Destination','month'])['month'].count().reset_index(name='count'))\n",
    "print df"
   ]
  },
  {
   "cell_type": "code",
   "execution_count": 49,
   "metadata": {
    "collapsed": false
   },
   "outputs": [
    {
     "name": "stdout",
     "output_type": "stream",
     "text": [
      "Destination  AGP  BCN  MAD\n",
      "month                     \n",
      "01           169  517  425\n",
      "02           147  497  400\n",
      "03           187  536  433\n",
      "04            31  174  147\n"
     ]
    }
   ],
   "source": [
    "# create a pivot table \n",
    "df=pd.pivot_table(df, values='count', index='month', columns='Destination')\n",
    "print df"
   ]
  },
  {
   "cell_type": "code",
   "execution_count": 50,
   "metadata": {
    "collapsed": false
   },
   "outputs": [
    {
     "data": {
      "image/png": "[encoded data removed]",
      "text/plain": [
       "<matplotlib.figure.Figure at 0xed5cc88>"
      ]
     },
     "metadata": {},
     "output_type": "display_data"
    }
   ],
   "source": [
    "#plot 3 curves for 3 cities \n",
    "plt.plot(df[[1]],color='blue',label='Barcelona')\n",
    "plt.plot(df[[2]],color='yellow',label='Madrid')\n",
    "plt.plot(df[[0]],color='red', label='Malaga')\n",
    "plt.legend()\n",
    "plt.xlabel('Months')\n",
    "plt.ylabel('Number of searches')\n",
    "plt.title('Monthly searches for flights arriving at Malaga, Madrid and Barcelona')\n",
    "plt.grid(True)\n",
    "plt.xticks(range(1,5),['january','february','march','april'],size='small')\n",
    "plt.xlim(1,4)\n",
    "plt.show()"
   ]
  },
  {
   "cell_type": "markdown",
   "metadata": {},
   "source": [
    "Exercise3/Bonus exercise: Match searches with bookings For every search in the searches file, find out whether the search ended up in a booking or not (using the info in the bookings file). For instance, search and booking origin and destination should match. For the bookings file, origin and destination are the columns dep_port and arr_port, respectively. Generate a CSV file with the search data, and an additional field, containing 1 if the search ended up in a booking, and 0 otherwise."
   ]
  },
  {
   "cell_type": "code",
   "execution_count": 51,
   "metadata": {
    "collapsed": false
   },
   "outputs": [
    {
     "name": "stderr",
     "output_type": "stream",
     "text": [
      "C:\\Users\\minhp_000\\Anaconda2\\lib\\site-packages\\ipykernel\\__main__.py:2: SettingWithCopyWarning: \n",
      "A value is trying to be set on a copy of a slice from a DataFrame.\n",
      "Try using .loc[row_indexer,col_indexer] = value instead\n",
      "\n",
      "See the caveats in the documentation: http://pandas.pydata.org/pandas-docs/stable/indexing.html#indexing-view-versus-copy\n",
      "  from ipykernel import kernelapp as app\n"
     ]
    },
    {
     "data": {
      "text/html": [
       "<div>\n",
       "<table border=\"1\" class=\"dataframe\">\n",
       "  <thead>\n",
       "    <tr style=\"text-align: right;\">\n",
       "      <th></th>\n",
       "      <th>dep_port</th>\n",
       "      <th>arr_port</th>\n",
       "      <th>booking</th>\n",
       "    </tr>\n",
       "  </thead>\n",
       "  <tbody>\n",
       "    <tr>\n",
       "      <th>0</th>\n",
       "      <td>ZRH</td>\n",
       "      <td>LHR</td>\n",
       "      <td>1</td>\n",
       "    </tr>\n",
       "  </tbody>\n",
       "</table>\n",
       "</div>"
      ],
      "text/plain": [
       "   dep_port  arr_port  booking\n",
       "0  ZRH       LHR             1"
      ]
     },
     "execution_count": 51,
     "metadata": {},
     "output_type": "execute_result"
    }
   ],
   "source": [
    "booking_dest=booking[['dep_port','arr_port']]# extract clolumns 'dep_port' and 'arr_port' from the 'booking' data \n",
    "booking_dest['booking']=1# add a column called 'booking'\n",
    "booking_dest.head(1)"
   ]
  },
  {
   "cell_type": "code",
   "execution_count": 52,
   "metadata": {
    "collapsed": false
   },
   "outputs": [
    {
     "data": {
      "text/html": [
       "<div>\n",
       "<table border=\"1\" class=\"dataframe\">\n",
       "  <thead>\n",
       "    <tr style=\"text-align: right;\">\n",
       "      <th></th>\n",
       "      <th>Origin</th>\n",
       "      <th>Destination</th>\n",
       "      <th>booking</th>\n",
       "    </tr>\n",
       "  </thead>\n",
       "  <tbody>\n",
       "    <tr>\n",
       "      <th>0</th>\n",
       "      <td>ZRH</td>\n",
       "      <td>LHR</td>\n",
       "      <td>1</td>\n",
       "    </tr>\n",
       "  </tbody>\n",
       "</table>\n",
       "</div>"
      ],
      "text/plain": [
       "     Origin Destination  booking\n",
       "0  ZRH         LHR             1"
      ]
     },
     "execution_count": 52,
     "metadata": {},
     "output_type": "execute_result"
    }
   ],
   "source": [
    "booking_dest=booking_dest.rename(columns={'dep_port':'Origin','arr_port':'Destination'})# rename columns for merge\n",
    "booking_dest.head(1)"
   ]
  },
  {
   "cell_type": "code",
   "execution_count": 28,
   "metadata": {
    "collapsed": false
   },
   "outputs": [
    {
     "data": {
      "text/plain": [
       "<bound method Series.unique of 0        0.0\n",
       "1        0.0\n",
       "2        0.0\n",
       "3        0.0\n",
       "4        0.0\n",
       "5        0.0\n",
       "6        0.0\n",
       "7        0.0\n",
       "8        0.0\n",
       "9        0.0\n",
       "10       0.0\n",
       "11       0.0\n",
       "12       0.0\n",
       "13       0.0\n",
       "14       0.0\n",
       "15       0.0\n",
       "16       0.0\n",
       "17       0.0\n",
       "18       0.0\n",
       "19       0.0\n",
       "20       0.0\n",
       "21       0.0\n",
       "22       0.0\n",
       "23       0.0\n",
       "24       0.0\n",
       "25       0.0\n",
       "26       0.0\n",
       "27       0.0\n",
       "28       0.0\n",
       "29       0.0\n",
       "        ... \n",
       "99970    0.0\n",
       "99971    0.0\n",
       "99972    0.0\n",
       "99973    0.0\n",
       "99974    0.0\n",
       "99975    0.0\n",
       "99976    0.0\n",
       "99977    0.0\n",
       "99978    0.0\n",
       "99979    0.0\n",
       "99980    0.0\n",
       "99981    0.0\n",
       "99982    0.0\n",
       "99983    0.0\n",
       "99984    0.0\n",
       "99985    0.0\n",
       "99986    0.0\n",
       "99987    0.0\n",
       "99988    0.0\n",
       "99989    0.0\n",
       "99990    0.0\n",
       "99991    0.0\n",
       "99992    0.0\n",
       "99993    0.0\n",
       "99994    0.0\n",
       "99995    0.0\n",
       "99996    0.0\n",
       "99997    0.0\n",
       "99998    0.0\n",
       "99999    0.0\n",
       "Name: booking, dtype: float64>"
      ]
     },
     "execution_count": 28,
     "metadata": {},
     "output_type": "execute_result"
    }
   ],
   "source": [
    "# match Service with Booking\n",
    "result = search.drop_duplicates().merge(booking_dest.drop_duplicates(),on=['Origin','Destination'], how='left')\n",
    "result= result.fillna(0)# substitue NA by 0 in the column 'booking'\n",
    "result.booking.unique# to see the values of this column, which are normally binary : 0 or 1."
   ]
  },
  {
   "cell_type": "code",
   "execution_count": 30,
   "metadata": {
    "collapsed": false
   },
   "outputs": [],
   "source": [
    "# generata a csv file\n",
    "result.to_csv('search_pred.csv')"
   ]
  },
  {
   "cell_type": "markdown",
   "metadata": {
    "collapsed": true
   },
   "source": [
    "Bonus Exercise: write a wep service\n",
    "Wrap the output of the second exercise in a web service that returns the data in JSON format (instead of printing to the standard output). The web service should accept a parameter n>0. For the top 10 airports, n is 10. For the X top airports, n is X."
   ]
  },
  {
   "cell_type": "code",
   "execution_count": 54,
   "metadata": {
    "collapsed": false
   },
   "outputs": [
    {
     "data": {
      "text/html": [
       "<div>\n",
       "<table border=\"1\" class=\"dataframe\">\n",
       "  <thead>\n",
       "    <tr style=\"text-align: right;\">\n",
       "      <th></th>\n",
       "      <th>name</th>\n",
       "      <th>IATA_code</th>\n",
       "      <th>pax</th>\n",
       "    </tr>\n",
       "  </thead>\n",
       "  <tbody>\n",
       "    <tr>\n",
       "      <th>0</th>\n",
       "      <td>London Heathrow Airport</td>\n",
       "      <td>LHR</td>\n",
       "      <td>1006</td>\n",
       "    </tr>\n",
       "    <tr>\n",
       "      <th>1</th>\n",
       "      <td>Orlando International Airport</td>\n",
       "      <td>MCO</td>\n",
       "      <td>861</td>\n",
       "    </tr>\n",
       "    <tr>\n",
       "      <th>2</th>\n",
       "      <td>John F Kennedy International Airport</td>\n",
       "      <td>JFK</td>\n",
       "      <td>795</td>\n",
       "    </tr>\n",
       "    <tr>\n",
       "      <th>3</th>\n",
       "      <td>Los Angeles International Airport</td>\n",
       "      <td>LAX</td>\n",
       "      <td>761</td>\n",
       "    </tr>\n",
       "    <tr>\n",
       "      <th>4</th>\n",
       "      <td>Suvarnabhumi</td>\n",
       "      <td>BKK</td>\n",
       "      <td>747</td>\n",
       "    </tr>\n",
       "    <tr>\n",
       "      <th>5</th>\n",
       "      <td>McCarran International Airport</td>\n",
       "      <td>LAS</td>\n",
       "      <td>732</td>\n",
       "    </tr>\n",
       "    <tr>\n",
       "      <th>6</th>\n",
       "      <td>San Francisco International Airport</td>\n",
       "      <td>SFO</td>\n",
       "      <td>705</td>\n",
       "    </tr>\n",
       "    <tr>\n",
       "      <th>7</th>\n",
       "      <td>Chicago O'Hare International Airport</td>\n",
       "      <td>ORD</td>\n",
       "      <td>686</td>\n",
       "    </tr>\n",
       "    <tr>\n",
       "      <th>8</th>\n",
       "      <td>Paris - Charles-de-Gaulle</td>\n",
       "      <td>CDG</td>\n",
       "      <td>676</td>\n",
       "    </tr>\n",
       "    <tr>\n",
       "      <th>9</th>\n",
       "      <td>Dubai International Airport</td>\n",
       "      <td>DXB</td>\n",
       "      <td>587</td>\n",
       "    </tr>\n",
       "  </tbody>\n",
       "</table>\n",
       "</div>"
      ],
      "text/plain": [
       "                                   name IATA_code   pax\n",
       "0               London Heathrow Airport  LHR       1006\n",
       "1         Orlando International Airport  MCO        861\n",
       "2  John F Kennedy International Airport  JFK        795\n",
       "3     Los Angeles International Airport  LAX        761\n",
       "4                          Suvarnabhumi  BKK        747\n",
       "5        McCarran International Airport  LAS        732\n",
       "6   San Francisco International Airport  SFO        705\n",
       "7  Chicago O'Hare International Airport  ORD        686\n",
       "8             Paris - Charles-de-Gaulle  CDG        676\n",
       "9           Dubai International Airport  DXB        587"
      ]
     },
     "execution_count": 54,
     "metadata": {},
     "output_type": "execute_result"
    }
   ],
   "source": [
    "# the output of the second exercise:\n",
    "out\n",
    "# Optional:out.to_csv('out_ext.csv')"
   ]
  },
  {
   "cell_type": "code",
   "execution_count": null,
   "metadata": {
    "collapsed": true
   },
   "outputs": [],
   "source": []
  }
 ],
 "metadata": {
  "kernelspec": {
   "display_name": "Python 2",
   "language": "python",
   "name": "python2"
  },
  "language_info": {
   "codemirror_mode": {
    "name": "ipython",
    "version": 2
   },
   "file_extension": ".py",
   "mimetype": "text/x-python",
   "name": "python",
   "nbconvert_exporter": "python",
   "pygments_lexer": "ipython2",
   "version": "2.7.11"
  }
 },
 "nbformat": 4,
 "nbformat_minor": 0
}
